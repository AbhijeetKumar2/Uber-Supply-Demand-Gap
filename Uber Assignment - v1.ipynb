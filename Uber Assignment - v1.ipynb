{
 "cells": [
  {
   "cell_type": "markdown",
   "metadata": {},
   "source": [
    "# 1. Import Data and Numpy, Pandas, Matplotlib, Seaborn"
   ]
  },
  {
   "cell_type": "code",
   "execution_count": 183,
   "metadata": {},
   "outputs": [
    {
     "data": {
      "text/html": [
       "<div>\n",
       "<style scoped>\n",
       "    .dataframe tbody tr th:only-of-type {\n",
       "        vertical-align: middle;\n",
       "    }\n",
       "\n",
       "    .dataframe tbody tr th {\n",
       "        vertical-align: top;\n",
       "    }\n",
       "\n",
       "    .dataframe thead th {\n",
       "        text-align: right;\n",
       "    }\n",
       "</style>\n",
       "<table border=\"1\" class=\"dataframe\">\n",
       "  <thead>\n",
       "    <tr style=\"text-align: right;\">\n",
       "      <th></th>\n",
       "      <th>Request id</th>\n",
       "      <th>Pickup point</th>\n",
       "      <th>Driver id</th>\n",
       "      <th>Status</th>\n",
       "      <th>Request timestamp</th>\n",
       "      <th>Drop timestamp</th>\n",
       "    </tr>\n",
       "  </thead>\n",
       "  <tbody>\n",
       "    <tr>\n",
       "      <th>0</th>\n",
       "      <td>619</td>\n",
       "      <td>Airport</td>\n",
       "      <td>1.0</td>\n",
       "      <td>Trip Completed</td>\n",
       "      <td>11/7/2016 11:51</td>\n",
       "      <td>11/7/2016 13:00</td>\n",
       "    </tr>\n",
       "    <tr>\n",
       "      <th>1</th>\n",
       "      <td>867</td>\n",
       "      <td>Airport</td>\n",
       "      <td>1.0</td>\n",
       "      <td>Trip Completed</td>\n",
       "      <td>11/7/2016 17:57</td>\n",
       "      <td>11/7/2016 18:47</td>\n",
       "    </tr>\n",
       "    <tr>\n",
       "      <th>2</th>\n",
       "      <td>1807</td>\n",
       "      <td>City</td>\n",
       "      <td>1.0</td>\n",
       "      <td>Trip Completed</td>\n",
       "      <td>12/7/2016 9:17</td>\n",
       "      <td>12/7/2016 9:58</td>\n",
       "    </tr>\n",
       "    <tr>\n",
       "      <th>3</th>\n",
       "      <td>2532</td>\n",
       "      <td>Airport</td>\n",
       "      <td>1.0</td>\n",
       "      <td>Trip Completed</td>\n",
       "      <td>12/7/2016 21:08</td>\n",
       "      <td>12/7/2016 22:03</td>\n",
       "    </tr>\n",
       "    <tr>\n",
       "      <th>4</th>\n",
       "      <td>3112</td>\n",
       "      <td>City</td>\n",
       "      <td>1.0</td>\n",
       "      <td>Trip Completed</td>\n",
       "      <td>13-07-2016 08:33:16</td>\n",
       "      <td>13-07-2016 09:25:47</td>\n",
       "    </tr>\n",
       "  </tbody>\n",
       "</table>\n",
       "</div>"
      ],
      "text/plain": [
       "   Request id Pickup point  Driver id          Status    Request timestamp  \\\n",
       "0         619      Airport        1.0  Trip Completed      11/7/2016 11:51   \n",
       "1         867      Airport        1.0  Trip Completed      11/7/2016 17:57   \n",
       "2        1807         City        1.0  Trip Completed       12/7/2016 9:17   \n",
       "3        2532      Airport        1.0  Trip Completed      12/7/2016 21:08   \n",
       "4        3112         City        1.0  Trip Completed  13-07-2016 08:33:16   \n",
       "\n",
       "        Drop timestamp  \n",
       "0      11/7/2016 13:00  \n",
       "1      11/7/2016 18:47  \n",
       "2       12/7/2016 9:58  \n",
       "3      12/7/2016 22:03  \n",
       "4  13-07-2016 09:25:47  "
      ]
     },
     "execution_count": 183,
     "metadata": {},
     "output_type": "execute_result"
    },
    {
     "data": {
      "text/html": [
       "<div>\n",
       "<style scoped>\n",
       "    .dataframe tbody tr th:only-of-type {\n",
       "        vertical-align: middle;\n",
       "    }\n",
       "\n",
       "    .dataframe tbody tr th {\n",
       "        vertical-align: top;\n",
       "    }\n",
       "\n",
       "    .dataframe thead th {\n",
       "        text-align: right;\n",
       "    }\n",
       "</style>\n",
       "<table border=\"1\" class=\"dataframe\">\n",
       "  <thead>\n",
       "    <tr style=\"text-align: right;\">\n",
       "      <th></th>\n",
       "      <th>Request id</th>\n",
       "      <th>Pickup point</th>\n",
       "      <th>Driver id</th>\n",
       "      <th>Status</th>\n",
       "      <th>Request timestamp</th>\n",
       "      <th>Drop timestamp</th>\n",
       "    </tr>\n",
       "  </thead>\n",
       "  <tbody>\n",
       "    <tr>\n",
       "      <th>6740</th>\n",
       "      <td>6745</td>\n",
       "      <td>City</td>\n",
       "      <td>NaN</td>\n",
       "      <td>No Cars Available</td>\n",
       "      <td>15-07-2016 23:49:03</td>\n",
       "      <td>NaN</td>\n",
       "    </tr>\n",
       "    <tr>\n",
       "      <th>6741</th>\n",
       "      <td>6752</td>\n",
       "      <td>Airport</td>\n",
       "      <td>NaN</td>\n",
       "      <td>No Cars Available</td>\n",
       "      <td>15-07-2016 23:50:05</td>\n",
       "      <td>NaN</td>\n",
       "    </tr>\n",
       "    <tr>\n",
       "      <th>6742</th>\n",
       "      <td>6751</td>\n",
       "      <td>City</td>\n",
       "      <td>NaN</td>\n",
       "      <td>No Cars Available</td>\n",
       "      <td>15-07-2016 23:52:06</td>\n",
       "      <td>NaN</td>\n",
       "    </tr>\n",
       "    <tr>\n",
       "      <th>6743</th>\n",
       "      <td>6754</td>\n",
       "      <td>City</td>\n",
       "      <td>NaN</td>\n",
       "      <td>No Cars Available</td>\n",
       "      <td>15-07-2016 23:54:39</td>\n",
       "      <td>NaN</td>\n",
       "    </tr>\n",
       "    <tr>\n",
       "      <th>6744</th>\n",
       "      <td>6753</td>\n",
       "      <td>Airport</td>\n",
       "      <td>NaN</td>\n",
       "      <td>No Cars Available</td>\n",
       "      <td>15-07-2016 23:55:03</td>\n",
       "      <td>NaN</td>\n",
       "    </tr>\n",
       "  </tbody>\n",
       "</table>\n",
       "</div>"
      ],
      "text/plain": [
       "      Request id Pickup point  Driver id             Status  \\\n",
       "6740        6745         City        NaN  No Cars Available   \n",
       "6741        6752      Airport        NaN  No Cars Available   \n",
       "6742        6751         City        NaN  No Cars Available   \n",
       "6743        6754         City        NaN  No Cars Available   \n",
       "6744        6753      Airport        NaN  No Cars Available   \n",
       "\n",
       "        Request timestamp Drop timestamp  \n",
       "6740  15-07-2016 23:49:03            NaN  \n",
       "6741  15-07-2016 23:50:05            NaN  \n",
       "6742  15-07-2016 23:52:06            NaN  \n",
       "6743  15-07-2016 23:54:39            NaN  \n",
       "6744  15-07-2016 23:55:03            NaN  "
      ]
     },
     "execution_count": 183,
     "metadata": {},
     "output_type": "execute_result"
    }
   ],
   "source": [
    "import numpy as np\n",
    "import pandas as pd\n",
    "import matplotlib.pyplot as plt\n",
    "\n",
    "# imported seaborn as snsa\n",
    "import seaborn as sns\n",
    "\n",
    "# set a seaborn style of your taste\n",
    "sns.set_style(\"whitegrid\")\n",
    "\n",
    "# data\n",
    "UberData = pd.read_csv(\"Uber Request Data.csv\")\n",
    "UberData.head(5)\n",
    "UberData.tail(5)"
   ]
  },
  {
   "cell_type": "markdown",
   "metadata": {},
   "source": [
    "# 2. Data Cleaning"
   ]
  },
  {
   "cell_type": "markdown",
   "metadata": {},
   "source": [
    "In Data Cleaning, Checked Duplicate rows if available, using info checked non-null values in each variable, Converted Column Request timestamp and Drop timestamp to Date Time and created derived variables"
   ]
  },
  {
   "cell_type": "markdown",
   "metadata": {},
   "source": [
    "### 2(a) - Cleaning"
   ]
  },
  {
   "cell_type": "code",
   "execution_count": 184,
   "metadata": {},
   "outputs": [],
   "source": [
    "# to display full output in Jupyter\n",
    "\n",
    "from IPython.core.interactiveshell import InteractiveShell\n",
    "InteractiveShell.ast_node_interactivity = \"all\""
   ]
  },
  {
   "cell_type": "code",
   "execution_count": 185,
   "metadata": {},
   "outputs": [
    {
     "data": {
      "text/plain": [
       "0"
      ]
     },
     "execution_count": 185,
     "metadata": {},
     "output_type": "execute_result"
    }
   ],
   "source": [
    "# for checking duplicated rows based on request id\n",
    "dup_chk = UberData[\"Request id\"].duplicated()\n",
    "dup_chk.sum()"
   ]
  },
  {
   "cell_type": "code",
   "execution_count": 186,
   "metadata": {},
   "outputs": [
    {
     "name": "stdout",
     "output_type": "stream",
     "text": [
      "<class 'pandas.core.frame.DataFrame'>\n",
      "RangeIndex: 6745 entries, 0 to 6744\n",
      "Data columns (total 6 columns):\n",
      "Request id           6745 non-null int64\n",
      "Pickup point         6745 non-null object\n",
      "Driver id            4095 non-null float64\n",
      "Status               6745 non-null object\n",
      "Request timestamp    6745 non-null object\n",
      "Drop timestamp       2831 non-null object\n",
      "dtypes: float64(1), int64(1), object(4)\n",
      "memory usage: 316.2+ KB\n"
     ]
    }
   ],
   "source": [
    "# Part of Data Cleaning\n",
    "UberData.info()"
   ]
  },
  {
   "cell_type": "code",
   "execution_count": 187,
   "metadata": {},
   "outputs": [
    {
     "data": {
      "text/plain": [
       "City       3507\n",
       "Airport    3238\n",
       "Name: Pickup point, dtype: int64"
      ]
     },
     "execution_count": 187,
     "metadata": {},
     "output_type": "execute_result"
    },
    {
     "data": {
      "text/plain": [
       "Trip Completed       2831\n",
       "No Cars Available    2650\n",
       "Cancelled            1264\n",
       "Name: Status, dtype: int64"
      ]
     },
     "execution_count": 187,
     "metadata": {},
     "output_type": "execute_result"
    }
   ],
   "source": [
    "# Checking Value Labels\n",
    "UberData['Pickup point'].value_counts()\n",
    "UberData['Status'].value_counts()"
   ]
  },
  {
   "cell_type": "markdown",
   "metadata": {},
   "source": [
    "### 2(b) - Creating derived variables"
   ]
  },
  {
   "cell_type": "code",
   "execution_count": 188,
   "metadata": {},
   "outputs": [
    {
     "data": {
      "text/html": [
       "<div>\n",
       "<style scoped>\n",
       "    .dataframe tbody tr th:only-of-type {\n",
       "        vertical-align: middle;\n",
       "    }\n",
       "\n",
       "    .dataframe tbody tr th {\n",
       "        vertical-align: top;\n",
       "    }\n",
       "\n",
       "    .dataframe thead th {\n",
       "        text-align: right;\n",
       "    }\n",
       "</style>\n",
       "<table border=\"1\" class=\"dataframe\">\n",
       "  <thead>\n",
       "    <tr style=\"text-align: right;\">\n",
       "      <th></th>\n",
       "      <th>Request id</th>\n",
       "      <th>Pickup point</th>\n",
       "      <th>Driver id</th>\n",
       "      <th>Status</th>\n",
       "      <th>Request timestamp</th>\n",
       "      <th>Drop timestamp</th>\n",
       "      <th>Req_day</th>\n",
       "      <th>Req_month</th>\n",
       "      <th>Req_year</th>\n",
       "      <th>Req_dayofweek</th>\n",
       "      <th>Req_time</th>\n",
       "      <th>Req_hour</th>\n",
       "      <th>Req_mint</th>\n",
       "      <th>Req_hour_disc</th>\n",
       "      <th>TimeCat</th>\n",
       "    </tr>\n",
       "  </thead>\n",
       "  <tbody>\n",
       "    <tr>\n",
       "      <th>0</th>\n",
       "      <td>619</td>\n",
       "      <td>Airport</td>\n",
       "      <td>1.0</td>\n",
       "      <td>Trip Completed</td>\n",
       "      <td>2016-11-07 11:51:00</td>\n",
       "      <td>2016-11-07 13:00:00</td>\n",
       "      <td>7</td>\n",
       "      <td>11</td>\n",
       "      <td>2016</td>\n",
       "      <td>Monday</td>\n",
       "      <td>11:51:00</td>\n",
       "      <td>11</td>\n",
       "      <td>51</td>\n",
       "      <td>11</td>\n",
       "      <td>Afternoon</td>\n",
       "    </tr>\n",
       "    <tr>\n",
       "      <th>1</th>\n",
       "      <td>867</td>\n",
       "      <td>Airport</td>\n",
       "      <td>1.0</td>\n",
       "      <td>Trip Completed</td>\n",
       "      <td>2016-11-07 17:57:00</td>\n",
       "      <td>2016-11-07 18:47:00</td>\n",
       "      <td>7</td>\n",
       "      <td>11</td>\n",
       "      <td>2016</td>\n",
       "      <td>Monday</td>\n",
       "      <td>17:57:00</td>\n",
       "      <td>17</td>\n",
       "      <td>57</td>\n",
       "      <td>17</td>\n",
       "      <td>Evening*</td>\n",
       "    </tr>\n",
       "    <tr>\n",
       "      <th>2</th>\n",
       "      <td>1807</td>\n",
       "      <td>City</td>\n",
       "      <td>1.0</td>\n",
       "      <td>Trip Completed</td>\n",
       "      <td>2016-12-07 09:17:00</td>\n",
       "      <td>2016-12-07 09:58:00</td>\n",
       "      <td>7</td>\n",
       "      <td>12</td>\n",
       "      <td>2016</td>\n",
       "      <td>Wednesday</td>\n",
       "      <td>09:17:00</td>\n",
       "      <td>9</td>\n",
       "      <td>17</td>\n",
       "      <td>9</td>\n",
       "      <td>Morning*</td>\n",
       "    </tr>\n",
       "    <tr>\n",
       "      <th>3</th>\n",
       "      <td>2532</td>\n",
       "      <td>Airport</td>\n",
       "      <td>1.0</td>\n",
       "      <td>Trip Completed</td>\n",
       "      <td>2016-12-07 21:08:00</td>\n",
       "      <td>2016-12-07 22:03:00</td>\n",
       "      <td>7</td>\n",
       "      <td>12</td>\n",
       "      <td>2016</td>\n",
       "      <td>Wednesday</td>\n",
       "      <td>21:08:00</td>\n",
       "      <td>21</td>\n",
       "      <td>8</td>\n",
       "      <td>21</td>\n",
       "      <td>Night</td>\n",
       "    </tr>\n",
       "    <tr>\n",
       "      <th>4</th>\n",
       "      <td>3112</td>\n",
       "      <td>City</td>\n",
       "      <td>1.0</td>\n",
       "      <td>Trip Completed</td>\n",
       "      <td>2016-07-13 08:33:16</td>\n",
       "      <td>2016-07-13 09:25:47</td>\n",
       "      <td>13</td>\n",
       "      <td>7</td>\n",
       "      <td>2016</td>\n",
       "      <td>Wednesday</td>\n",
       "      <td>08:33:16</td>\n",
       "      <td>8</td>\n",
       "      <td>33</td>\n",
       "      <td>8</td>\n",
       "      <td>Morning*</td>\n",
       "    </tr>\n",
       "  </tbody>\n",
       "</table>\n",
       "</div>"
      ],
      "text/plain": [
       "   Request id Pickup point  Driver id          Status   Request timestamp  \\\n",
       "0         619      Airport        1.0  Trip Completed 2016-11-07 11:51:00   \n",
       "1         867      Airport        1.0  Trip Completed 2016-11-07 17:57:00   \n",
       "2        1807         City        1.0  Trip Completed 2016-12-07 09:17:00   \n",
       "3        2532      Airport        1.0  Trip Completed 2016-12-07 21:08:00   \n",
       "4        3112         City        1.0  Trip Completed 2016-07-13 08:33:16   \n",
       "\n",
       "       Drop timestamp  Req_day  Req_month  Req_year Req_dayofweek  Req_time  \\\n",
       "0 2016-11-07 13:00:00        7         11      2016        Monday  11:51:00   \n",
       "1 2016-11-07 18:47:00        7         11      2016        Monday  17:57:00   \n",
       "2 2016-12-07 09:58:00        7         12      2016     Wednesday  09:17:00   \n",
       "3 2016-12-07 22:03:00        7         12      2016     Wednesday  21:08:00   \n",
       "4 2016-07-13 09:25:47       13          7      2016     Wednesday  08:33:16   \n",
       "\n",
       "   Req_hour  Req_mint Req_hour_disc    TimeCat  \n",
       "0        11        51            11  Afternoon  \n",
       "1        17        57            17   Evening*  \n",
       "2         9        17             9   Morning*  \n",
       "3        21         8            21      Night  \n",
       "4         8        33             8   Morning*  "
      ]
     },
     "execution_count": 188,
     "metadata": {},
     "output_type": "execute_result"
    }
   ],
   "source": [
    "# Convertion of Columns Request and Drop timestamp to Date Time \n",
    "import datetime\n",
    "UberData['Request timestamp'] = pd.to_datetime(UberData['Request timestamp'])\n",
    "UberData['Drop timestamp'] = pd.to_datetime(UberData['Drop timestamp'])\n",
    "\n",
    "# create derived variables\n",
    "UberData['Req_day']=UberData['Request timestamp'].dt.day\n",
    "UberData['Req_month']=UberData['Request timestamp'].dt.month\n",
    "UberData['Req_year']=UberData['Request timestamp'].dt.year\n",
    "UberData['Req_dayofweek']=UberData['Request timestamp'].dt.day_name()\n",
    "UberData['Req_time']=UberData['Request timestamp'].dt.time\n",
    "UberData['Req_hour']=UberData['Request timestamp'].dt.hour\n",
    "UberData['Req_mint']=UberData['Request timestamp'].dt.minute\n",
    "UberData['Req_hour_disc']=UberData['Req_hour'].astype(str)\n",
    "\n",
    "\n",
    "# creating variable Time Slot as TimeCat from Hours\n",
    "UberData.loc[(UberData.Req_hour >=0) & (UberData.Req_hour < 4) ,'TimeCat'] ='Late Night'\n",
    "UberData.loc[(UberData.Req_hour >=4) & (UberData.Req_hour < 5) ,'TimeCat'] ='Early Morning'\n",
    "UberData.loc[(UberData.Req_hour >=5) & (UberData.Req_hour < 10) ,'TimeCat'] ='Morning*'\n",
    "UberData.loc[(UberData.Req_hour >=10) & (UberData.Req_hour < 17) ,'TimeCat'] ='Afternoon'\n",
    "UberData.loc[(UberData.Req_hour >=17) & (UberData.Req_hour < 21) ,'TimeCat'] ='Evening*'\n",
    "UberData.loc[(UberData.Req_hour >=21) ,'TimeCat'] ='Night'\n",
    "\n",
    "UberData.head(5)\n",
    "#UberData.info()"
   ]
  },
  {
   "cell_type": "markdown",
   "metadata": {},
   "source": [
    "# 3. Creating Visulas - Plotting Graphs"
   ]
  },
  {
   "cell_type": "markdown",
   "metadata": {},
   "source": [
    "### 3(a) - Plot Showing Percentage of Status labels in Pie Chart"
   ]
  },
  {
   "cell_type": "code",
   "execution_count": 189,
   "metadata": {},
   "outputs": [
    {
     "data": {
      "text/plain": [
       "([<matplotlib.patches.Wedge at 0x19e909e9a20>,\n",
       "  <matplotlib.patches.Wedge at 0x19e909f2160>,\n",
       "  <matplotlib.patches.Wedge at 0x19e909f2908>],\n",
       " [Text(0.274502,1.0652,'Trip Completed'),\n",
       "  Text(-0.819798,-0.733438,'No Cars Available'),\n",
       "  Text(0.914812,-0.610834,'Cancelled')],\n",
       " [Text(0.149728,0.581018,'42.0%'),\n",
       "  Text(-0.447162,-0.400057,'39.3%'),\n",
       "  Text(0.498988,-0.333182,'18.7%')])"
      ]
     },
     "execution_count": 189,
     "metadata": {},
     "output_type": "execute_result"
    },
    {
     "data": {
      "text/plain": [
       "(-1.1178230389955717,\n",
       " 1.1008487161426463,\n",
       " -1.1233140737657692,\n",
       " 1.1259343281394145)"
      ]
     },
     "execution_count": 189,
     "metadata": {},
     "output_type": "execute_result"
    },
    {
     "data": {
      "image/png": "[encoded data removed]",
      "text/plain": [
       "<Figure size 432x288 with 1 Axes>"
      ]
     },
     "metadata": {},
     "output_type": "display_data"
    }
   ],
   "source": [
    "#Status distribution in pie Chart\n",
    "UberData.loc[(UberData.Status ==\"Trip Completed\"),'TripComp'] =1\n",
    "UberData.loc[(UberData.Status ==\"No Cars Available\"),'NoCars'] =1\n",
    "UberData.loc[(UberData.Status ==\"Cancelled\"),'Cancel'] =1\n",
    "\n",
    "\n",
    "labels = ['Trip Completed', 'No Cars Available', 'Cancelled']\n",
    "sizes = [UberData['TripComp'].value_counts()[1],\n",
    "         UberData['NoCars'].value_counts()[1],\n",
    "         UberData['Cancel'].value_counts()[1],\n",
    "         ]\n",
    "plt.pie(sizes, labels=labels, autopct='%1.1f%%', shadow=False)\n",
    "plt.axis('equal')\n",
    "plt.show()"
   ]
  },
  {
   "cell_type": "markdown",
   "metadata": {},
   "source": [
    "### 3(b1)- Plot Showing Hourly distribution of Request"
   ]
  },
  {
   "cell_type": "code",
   "execution_count": 190,
   "metadata": {},
   "outputs": [
    {
     "data": {
      "text/plain": [
       "<seaborn.axisgrid.FacetGrid at 0x19e8fa19198>"
      ]
     },
     "execution_count": 190,
     "metadata": {},
     "output_type": "execute_result"
    },
    {
     "data": {
      "image/png": "[encoded data removed]",
      "text/plain": [
       "<Figure size 360x360 with 1 Axes>"
      ]
     },
     "metadata": {},
     "output_type": "display_data"
    }
   ],
   "source": [
    "# Hourly distribution of Request Recieved\n",
    "\n",
    "g=sns.catplot(x=\"Req_hour\",kind=\"count\",palette=sns.color_palette(['red']),data=UberData)\n",
    "g.set_axis_labels(\"Request Hours\" ,\"Count\")"
   ]
  },
  {
   "cell_type": "markdown",
   "metadata": {},
   "source": [
    "### 3(b2)- Plot Showing Hourly distribution of Request by Pickup point"
   ]
  },
  {
   "cell_type": "code",
   "execution_count": 191,
   "metadata": {},
   "outputs": [
    {
     "data": {
      "text/plain": [
       "<seaborn.axisgrid.FacetGrid at 0x19e90bf6390>"
      ]
     },
     "execution_count": 191,
     "metadata": {},
     "output_type": "execute_result"
    },
    {
     "data": {
      "image/png": "[encoded data removed]",
      "text/plain": [
       "<Figure size 720x360 with 2 Axes>"
      ]
     },
     "metadata": {},
     "output_type": "display_data"
    }
   ],
   "source": [
    "# Hourly distribution by Pickup point\n",
    "\n",
    "g=sns.catplot(x=\"Req_hour\",col=\"Pickup point\",kind=\"count\",col_order = ['City','Airport'],\n",
    "              palette=sns.color_palette(['red']),\n",
    "              data=UberData)\n",
    "g.set_axis_labels(\"Hourly Distribution\" ,\"Count\")"
   ]
  },
  {
   "cell_type": "markdown",
   "metadata": {},
   "source": [
    "### 3(c) - Plot Showing frequency of requests that get cancelled or show 'No cars Available'"
   ]
  },
  {
   "cell_type": "code",
   "execution_count": 192,
   "metadata": {},
   "outputs": [
    {
     "data": {
      "text/plain": [
       "<matplotlib.axes._subplots.AxesSubplot at 0x19e90c450b8>"
      ]
     },
     "execution_count": 192,
     "metadata": {},
     "output_type": "execute_result"
    },
    {
     "data": {
      "image/png": "[encoded data removed]",
      "text/plain": [
       "<Figure size 432x288 with 1 Axes>"
      ]
     },
     "metadata": {},
     "output_type": "display_data"
    }
   ],
   "source": [
    "# count of cancelled or 'No cars Available'\n",
    "\n",
    "sns.countplot(x=\"Status\", palette=\"Set1\", linewidth=5, data=UberData[UberData.Status != 'Trip Completed'], \n",
    "              order = ['No Cars Available','Cancelled'])"
   ]
  },
  {
   "cell_type": "markdown",
   "metadata": {},
   "source": [
    "### 3(d) - Identifying most problematic types of requests (city to airport / airport to city)"
   ]
  },
  {
   "cell_type": "code",
   "execution_count": 193,
   "metadata": {},
   "outputs": [
    {
     "data": {
      "text/plain": [
       "<seaborn.axisgrid.FacetGrid at 0x19e8fe0eba8>"
      ]
     },
     "execution_count": 193,
     "metadata": {},
     "output_type": "execute_result"
    },
    {
     "data": {
      "image/png": "[encoded data removed]",
      "text/plain": [
       "<Figure size 720x360 with 2 Axes>"
      ]
     },
     "metadata": {},
     "output_type": "display_data"
    }
   ],
   "source": [
    "#most problematic types of requests (city to airport / airport to city\n",
    "\n",
    "g = sns.catplot(x=\"Status\",col=\"Pickup point\",kind=\"count\", palette=\"Set1\", data=UberData[UberData.Status != 'Trip Completed'])\n",
    "g.set_axis_labels(\"Business Problem\" ,\"Count\")"
   ]
  },
  {
   "cell_type": "markdown",
   "metadata": {},
   "source": [
    "### 3(e) - Request at Different Time Slots"
   ]
  },
  {
   "cell_type": "code",
   "execution_count": 194,
   "metadata": {},
   "outputs": [
    {
     "data": {
      "text/plain": [
       "<seaborn.axisgrid.FacetGrid at 0x19e91c95f28>"
      ]
     },
     "execution_count": 194,
     "metadata": {},
     "output_type": "execute_result"
    },
    {
     "data": {
      "image/png": "[encoded data removed]",
      "text/plain": [
       "<Figure size 504x504 with 1 Axes>"
      ]
     },
     "metadata": {},
     "output_type": "display_data"
    }
   ],
   "source": [
    "#Time Slot Distribution\n",
    "g=sns.catplot(x=\"TimeCat\",kind=\"count\",\n",
    "              order=[\"Early Morning\",\"Morning*\",\"Afternoon\",\"Evening*\",\"Night\",\"Late Night\"],\n",
    "              palette=sns.color_palette('Set1'),\n",
    "              data=UberData,height=7)\n",
    "g.set_axis_labels(\"Time Slots\" ,\"Count\")\n",
    "\n",
    "# Note : * Showing Peak Hours in Time Slots"
   ]
  },
  {
   "cell_type": "markdown",
   "metadata": {},
   "source": [
    "### 3(f) - Business Problem by Different Time Slots"
   ]
  },
  {
   "cell_type": "code",
   "execution_count": 195,
   "metadata": {},
   "outputs": [
    {
     "data": {
      "text/plain": [
       "<seaborn.axisgrid.FacetGrid at 0x19e90bb4b00>"
      ]
     },
     "execution_count": 195,
     "metadata": {},
     "output_type": "execute_result"
    },
    {
     "data": {
      "image/png": "[encoded data removed]",
      "text/plain": [
       "<Figure size 929.625x432 with 2 Axes>"
      ]
     },
     "metadata": {},
     "output_type": "display_data"
    }
   ],
   "source": [
    "# (city to airport / airport to city) - Major Problem is Non Availiliby of Cars at Airport due to Cancellation in the City\n",
    "\n",
    "g=sns.catplot(x=\"TimeCat\",col=\"Status\",kind=\"count\",hue=\"Pickup point\",\n",
    "              order=[\"Early Morning\",\"Morning*\",\"Afternoon\",\"Evening*\",\"Night\",\"Late Night\"],\n",
    "              palette=sns.color_palette('Set2'),\n",
    "              data=UberData[UberData.Status != \"Trip Completed\"],height=6)\n",
    "g.set_axis_labels(\"Time Slots\" ,\"Count\")\n",
    "\n",
    "# Note : * Showing Peak Hours in Time Slots"
   ]
  },
  {
   "cell_type": "markdown",
   "metadata": {},
   "source": [
    "# 4. Supply, Demand and Gap Analysis"
   ]
  },
  {
   "cell_type": "markdown",
   "metadata": {},
   "source": [
    "#### Data Preparation"
   ]
  },
  {
   "cell_type": "markdown",
   "metadata": {},
   "source": [
    "For Supply Demand Analysis created copy of the UberData and appended on Existing data to generate Counts of Demand by filling all values in Status as \"Demand\" before using append.\n",
    "\n",
    "After, using append changed the existing labels of Cancelled and No Cars Available to Gap & Trip Completed to Supply using replace.\n",
    "\n",
    "Also, Created variable Demand/Supply and recoded Demand, Gap, Supply as 1 to generate Pivot"
   ]
  },
  {
   "cell_type": "code",
   "execution_count": 196,
   "metadata": {},
   "outputs": [
    {
     "data": {
      "text/plain": [
       "Demand    6745\n",
       "Gap       3914\n",
       "Supply    2831\n",
       "Name: Status, dtype: int64"
      ]
     },
     "execution_count": 196,
     "metadata": {},
     "output_type": "execute_result"
    },
    {
     "data": {
      "text/html": [
       "<div>\n",
       "<style scoped>\n",
       "    .dataframe tbody tr th:only-of-type {\n",
       "        vertical-align: middle;\n",
       "    }\n",
       "\n",
       "    .dataframe tbody tr th {\n",
       "        vertical-align: top;\n",
       "    }\n",
       "\n",
       "    .dataframe thead th {\n",
       "        text-align: right;\n",
       "    }\n",
       "</style>\n",
       "<table border=\"1\" class=\"dataframe\">\n",
       "  <thead>\n",
       "    <tr style=\"text-align: right;\">\n",
       "      <th></th>\n",
       "      <th>Status</th>\n",
       "      <th>Demand</th>\n",
       "      <th>Gap</th>\n",
       "      <th>Supply</th>\n",
       "    </tr>\n",
       "    <tr>\n",
       "      <th>Pickup point</th>\n",
       "      <th>TimeCat</th>\n",
       "      <th></th>\n",
       "      <th></th>\n",
       "      <th></th>\n",
       "    </tr>\n",
       "  </thead>\n",
       "  <tbody>\n",
       "    <tr>\n",
       "      <th rowspan=\"6\" valign=\"top\">Airport</th>\n",
       "      <th>Afternoon</th>\n",
       "      <td>478.0</td>\n",
       "      <td>151.0</td>\n",
       "      <td>327.0</td>\n",
       "    </tr>\n",
       "    <tr>\n",
       "      <th>Early Morning</th>\n",
       "      <td>72.0</td>\n",
       "      <td>36.0</td>\n",
       "      <td>36.0</td>\n",
       "    </tr>\n",
       "    <tr>\n",
       "      <th>Evening*</th>\n",
       "      <td>1457.0</td>\n",
       "      <td>1145.0</td>\n",
       "      <td>312.0</td>\n",
       "    </tr>\n",
       "    <tr>\n",
       "      <th>Late Night</th>\n",
       "      <td>181.0</td>\n",
       "      <td>114.0</td>\n",
       "      <td>67.0</td>\n",
       "    </tr>\n",
       "    <tr>\n",
       "      <th>Morning*</th>\n",
       "      <td>426.0</td>\n",
       "      <td>44.0</td>\n",
       "      <td>382.0</td>\n",
       "    </tr>\n",
       "    <tr>\n",
       "      <th>Night</th>\n",
       "      <td>624.0</td>\n",
       "      <td>421.0</td>\n",
       "      <td>203.0</td>\n",
       "    </tr>\n",
       "    <tr>\n",
       "      <th rowspan=\"6\" valign=\"top\">City</th>\n",
       "      <th>Afternoon</th>\n",
       "      <td>746.0</td>\n",
       "      <td>351.0</td>\n",
       "      <td>395.0</td>\n",
       "    </tr>\n",
       "    <tr>\n",
       "      <th>Early Morning</th>\n",
       "      <td>131.0</td>\n",
       "      <td>89.0</td>\n",
       "      <td>42.0</td>\n",
       "    </tr>\n",
       "    <tr>\n",
       "      <th>Evening*</th>\n",
       "      <td>436.0</td>\n",
       "      <td>106.0</td>\n",
       "      <td>330.0</td>\n",
       "    </tr>\n",
       "    <tr>\n",
       "      <th>Late Night</th>\n",
       "      <td>194.0</td>\n",
       "      <td>125.0</td>\n",
       "      <td>69.0</td>\n",
       "    </tr>\n",
       "    <tr>\n",
       "      <th>Morning*</th>\n",
       "      <td>1677.0</td>\n",
       "      <td>1205.0</td>\n",
       "      <td>472.0</td>\n",
       "    </tr>\n",
       "    <tr>\n",
       "      <th>Night</th>\n",
       "      <td>323.0</td>\n",
       "      <td>127.0</td>\n",
       "      <td>196.0</td>\n",
       "    </tr>\n",
       "  </tbody>\n",
       "</table>\n",
       "</div>"
      ],
      "text/plain": [
       "Status                      Demand     Gap  Supply\n",
       "Pickup point TimeCat                              \n",
       "Airport      Afternoon       478.0   151.0   327.0\n",
       "             Early Morning    72.0    36.0    36.0\n",
       "             Evening*       1457.0  1145.0   312.0\n",
       "             Late Night      181.0   114.0    67.0\n",
       "             Morning*        426.0    44.0   382.0\n",
       "             Night           624.0   421.0   203.0\n",
       "City         Afternoon       746.0   351.0   395.0\n",
       "             Early Morning   131.0    89.0    42.0\n",
       "             Evening*        436.0   106.0   330.0\n",
       "             Late Night      194.0   125.0    69.0\n",
       "             Morning*       1677.0  1205.0   472.0\n",
       "             Night           323.0   127.0   196.0"
      ]
     },
     "execution_count": 196,
     "metadata": {},
     "output_type": "execute_result"
    }
   ],
   "source": [
    "# supply, demand and Gap\n",
    "\n",
    "# Creating Copy of Data and Changing Status to Demand\n",
    "UberData1 = UberData.copy(deep=True)\n",
    "UberData1['Status']='Demand'\n",
    "\n",
    "# appending copy of data on data and Changing row labels to Gap and Supply\n",
    "UberData2 = UberData.append(UberData1)\n",
    "UberData2[\"Status\"]= UberData2[\"Status\"].replace([\"Cancelled\",\"No Cars Available\"],\"Gap\")\n",
    "UberData2[\"Status\"]= UberData2[\"Status\"].replace(\"Trip Completed\",\"Supply\")\n",
    "\n",
    "# Creating a variable Demand/Supply and recoding using column Status to take counts in Pivot\n",
    "UberData2.loc[(UberData2.Status ==\"Demand\"),'Demand/Supply'] =1\n",
    "UberData2.loc[(UberData2.Status ==\"Gap\"),'Demand/Supply'] =1\n",
    "UberData2.loc[(UberData2.Status ==\"Supply\"),'Demand/Supply'] =1\n",
    "\n",
    "UberData2['Status'].value_counts()\n",
    "\n",
    "\n",
    "UberData2.pivot_table(values = 'Demand/Supply',\n",
    "                      columns = 'Status', \n",
    "                      index = ['Pickup point','TimeCat'], \n",
    "                      aggfunc = 'sum')\n",
    "\n",
    "UberData2.to_csv(\"Uber Request Data2.csv\")"
   ]
  },
  {
   "cell_type": "markdown",
   "metadata": {},
   "source": [
    "### 4(a) - Plot - Supply Demand Gap"
   ]
  },
  {
   "cell_type": "code",
   "execution_count": 197,
   "metadata": {},
   "outputs": [
    {
     "data": {
      "text/plain": [
       "<seaborn.axisgrid.FacetGrid at 0x19e91d08588>"
      ]
     },
     "execution_count": 197,
     "metadata": {},
     "output_type": "execute_result"
    },
    {
     "data": {
      "image/png": "[encoded data removed]",
      "text/plain": [
       "<Figure size 360x360 with 1 Axes>"
      ]
     },
     "metadata": {},
     "output_type": "display_data"
    }
   ],
   "source": [
    "# Plot for Supply Demang Gap\n",
    "g = sns.catplot(x=\"Status\", kind=\"count\", order = ['Demand','Supply','Gap'], data=UberData2,palette=sns.color_palette('Set2'))\n",
    "g.set_axis_labels(\"Demand vs Supply\" ,\"Count\")"
   ]
  },
  {
   "cell_type": "markdown",
   "metadata": {},
   "source": [
    "### 4(b) - Plot - Supply Demand Gap by Pickup Point"
   ]
  },
  {
   "cell_type": "code",
   "execution_count": 198,
   "metadata": {},
   "outputs": [
    {
     "data": {
      "text/plain": [
       "<seaborn.axisgrid.FacetGrid at 0x19e91d76668>"
      ]
     },
     "execution_count": 198,
     "metadata": {},
     "output_type": "execute_result"
    },
    {
     "data": {
      "image/png": "[encoded data removed]",
      "text/plain": [
       "<Figure size 433.875x360 with 1 Axes>"
      ]
     },
     "metadata": {},
     "output_type": "display_data"
    }
   ],
   "source": [
    "g=sns.catplot(x=\"Pickup point\", hue=\"Status\", kind=\"count\", data=UberData2, hue_order = ['Demand','Supply','Gap'], \n",
    "            palette=sns.color_palette('Set2'))\n",
    "g.set_axis_labels(\"Demand vs Supply\" ,\"Count\")"
   ]
  },
  {
   "cell_type": "markdown",
   "metadata": {},
   "source": [
    "### 4(c) - Plot - Supply Demand Gap by Pickup Point by Time Slots"
   ]
  },
  {
   "cell_type": "code",
   "execution_count": 199,
   "metadata": {},
   "outputs": [
    {
     "data": {
      "text/plain": [
       "<seaborn.axisgrid.FacetGrid at 0x19e90c17320>"
      ]
     },
     "execution_count": 199,
     "metadata": {},
     "output_type": "execute_result"
    },
    {
     "data": {
      "image/png": "[encoded data removed]",
      "text/plain": [
       "<Figure size 1081.88x504 with 2 Axes>"
      ]
     },
     "metadata": {},
     "output_type": "display_data"
    }
   ],
   "source": [
    "g=sns.catplot(x=\"TimeCat\", hue=\"Status\", kind=\"count\", col=\"Pickup point\", data=UberData2, \n",
    "              hue_order = ['Demand','Supply','Gap'], \n",
    "            palette=sns.color_palette('Set2'), height = 7, \n",
    "            order=[\"Early Morning\",\"Morning*\",\"Afternoon\",\"Evening*\",\"Night\",\"Late Night\"], col_order = ['City','Airport'])\n",
    "g.set_axis_labels(\"Demand vs Supply\" ,\"Count\")\n",
    "\n",
    "# Note : * Showing Peak Hours in Time Slots"
   ]
  },
  {
   "cell_type": "markdown",
   "metadata": {},
   "source": [
    "## Top Drivers Making Cancellation in city - airport trips"
   ]
  },
  {
   "cell_type": "code",
   "execution_count": 200,
   "metadata": {
    "scrolled": false
   },
   "outputs": [
    {
     "data": {
      "text/plain": [
       "<Figure size 1440x576 with 0 Axes>"
      ]
     },
     "execution_count": 200,
     "metadata": {},
     "output_type": "execute_result"
    },
    {
     "data": {
      "text/plain": [
       "84.0     11\n",
       "54.0     10\n",
       "142.0    10\n",
       "27.0      8\n",
       "206.0     8\n",
       "131.0     8\n",
       "177.0     8\n",
       "290.0     7\n",
       "256.0     7\n",
       "138.0     7\n",
       "190.0     7\n",
       "114.0     7\n",
       "70.0      7\n",
       "197.0     7\n",
       "275.0     7\n",
       "44.0      7\n",
       "267.0     7\n",
       "249.0     6\n",
       "144.0     6\n",
       "165.0     6\n",
       "Name: Driver id, dtype: int64"
      ]
     },
     "execution_count": 200,
     "metadata": {},
     "output_type": "execute_result"
    },
    {
     "data": {
      "text/plain": [
       "[Text(0,0.5,'Count of Cancellation in City'), Text(0.5,0,'Driver id')]"
      ]
     },
     "execution_count": 200,
     "metadata": {},
     "output_type": "execute_result"
    },
    {
     "data": {
      "image/png": "[encoded data removed]",
      "text/plain": [
       "<Figure size 1440x576 with 1 Axes>"
      ]
     },
     "metadata": {},
     "output_type": "display_data"
    }
   ],
   "source": [
    "#For Driver Based Analysis - Top Drivers Cancelling request\n",
    "\n",
    "# Filterd data for status cancelled in the city\n",
    "DriverCancellingin_City = UberData[(UberData['Status'] == \"Cancelled\") & (UberData['Pickup point'] == \"City\")]\n",
    "\n",
    "# Counting Values of driver id's\n",
    "Driver = DriverCancellingin_City['Driver id'].value_counts().sort_values(ascending=False)\n",
    "\n",
    "# Top 20 driver making cancellation in city and their id's\n",
    "Driver = Driver [:20,]\n",
    "plt.figure(figsize = (20,8))\n",
    "Driver\n",
    "\n",
    "#plot\n",
    "g = sns.barplot(Driver.index, Driver.values, alpha=0.8, palette=sns.color_palette(['red']))\n",
    "g.set(xlabel=\"Driver id\", ylabel='Count of Cancellation in City')"
   ]
  }
 ],
 "metadata": {
  "kernelspec": {
   "display_name": "Python 3",
   "language": "python",
   "name": "python3"
  },
  "language_info": {
   "codemirror_mode": {
    "name": "ipython",
    "version": 3
   },
   "file_extension": ".py",
   "mimetype": "text/x-python",
   "name": "python",
   "nbconvert_exporter": "python",
   "pygments_lexer": "ipython3",
   "version": "3.6.5"
  }
 },
 "nbformat": 4,
 "nbformat_minor": 2
}
